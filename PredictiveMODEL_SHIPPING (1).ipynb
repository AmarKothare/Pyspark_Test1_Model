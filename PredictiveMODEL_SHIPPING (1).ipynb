{
  "nbformat": 4,
  "nbformat_minor": 0,
  "metadata": {
    "colab": {
      "name": "PredictiveMODEL_SHIPPING.ipynb",
      "provenance": []
    },
    "kernelspec": {
      "name": "python3",
      "display_name": "Python 3"
    },
    "language_info": {
      "name": "python"
    }
  },
  "cells": [
    {
      "cell_type": "code",
      "execution_count": 1,
      "metadata": {
        "id": "sZ2fz_OsQXYn"
      },
      "outputs": [],
      "source": [
        "# SETTING UP PYSPARK ENVIRONMENT"
      ]
    },
    {
      "cell_type": "code",
      "source": [
        ""
      ],
      "metadata": {
        "id": "kY4P8lpTQYkG"
      },
      "execution_count": 1,
      "outputs": []
    },
    {
      "cell_type": "code",
      "source": [
        "!pip install pyarrow==0.15.1"
      ],
      "metadata": {
        "colab": {
          "base_uri": "https://localhost:8080/"
        },
        "id": "Tqa7G2WNQYmr",
        "outputId": "1d0123ed-368c-4b5f-ab66-5aaeb3d0ac82"
      },
      "execution_count": 2,
      "outputs": [
        {
          "output_type": "stream",
          "name": "stdout",
          "text": [
            "Collecting pyarrow==0.15.1\n",
            "  Downloading pyarrow-0.15.1-cp37-cp37m-manylinux2010_x86_64.whl (59.2 MB)\n",
            "\u001b[K     |████████████████████████████████| 59.2 MB 1.8 MB/s \n",
            "\u001b[?25hRequirement already satisfied: numpy>=1.14 in /usr/local/lib/python3.7/dist-packages (from pyarrow==0.15.1) (1.21.6)\n",
            "Requirement already satisfied: six>=1.0.0 in /usr/local/lib/python3.7/dist-packages (from pyarrow==0.15.1) (1.15.0)\n",
            "Installing collected packages: pyarrow\n",
            "  Attempting uninstall: pyarrow\n",
            "    Found existing installation: pyarrow 6.0.1\n",
            "    Uninstalling pyarrow-6.0.1:\n",
            "      Successfully uninstalled pyarrow-6.0.1\n",
            "Successfully installed pyarrow-0.15.1\n"
          ]
        }
      ]
    },
    {
      "cell_type": "code",
      "source": [
        "!apt-get install openjdk-8-jdk-headless -qq > /dev/null\n",
        "!wget -q https://downloads.apache.org/spark/spark-3.0.3/spark-3.0.3-bin-hadoop3.2.tgz\n",
        "!tar xf spark-3.0.3-bin-hadoop3.2.tgz\n",
        "!pip install -q findspark"
      ],
      "metadata": {
        "id": "qLcdy7g1QYo7"
      },
      "execution_count": 3,
      "outputs": []
    },
    {
      "cell_type": "code",
      "source": [
        "!ls /usr/lib/jvm/"
      ],
      "metadata": {
        "colab": {
          "base_uri": "https://localhost:8080/"
        },
        "id": "1q4gfMkfRBda",
        "outputId": "41f4df6d-b1c7-4414-fa5f-b08c165cc724"
      },
      "execution_count": 4,
      "outputs": [
        {
          "output_type": "stream",
          "name": "stdout",
          "text": [
            "default-java\t\t   java-11-openjdk-amd64     java-8-openjdk-amd64\n",
            "java-1.11.0-openjdk-amd64  java-1.8.0-openjdk-amd64\n"
          ]
        }
      ]
    },
    {
      "cell_type": "code",
      "source": [
        "import os\n",
        "os.environ[\"JAVA_HOME\"] = \"/usr/lib/jvm/java-8-openjdk-amd64\"\n",
        "os.environ[\"SPARK_HOME\"] = \"/content/spark-3.0.3-bin-hadoop3.2\""
      ],
      "metadata": {
        "id": "qQ9HtjQDQYrS"
      },
      "execution_count": 5,
      "outputs": []
    },
    {
      "cell_type": "code",
      "source": [
        "import findspark\n",
        "findspark.init()\n",
        "from pyspark.sql import SparkSession\n",
        "spark = SparkSession.builder.master(\"local[*]\").getOrCreate()"
      ],
      "metadata": {
        "id": "dVil2FVwQYto"
      },
      "execution_count": 6,
      "outputs": []
    },
    {
      "cell_type": "code",
      "source": [
        "import sys\n",
        "from pyspark.sql.functions import *"
      ],
      "metadata": {
        "id": "97r2EM3OQYv0"
      },
      "execution_count": 7,
      "outputs": []
    },
    {
      "cell_type": "code",
      "source": [
        "df=spark.read.csv(\"/content/cruise_ship_info.csv\",inferSchema=True,header=True) # imported the dataset"
      ],
      "metadata": {
        "id": "eTD8nbJXQYyT"
      },
      "execution_count": 8,
      "outputs": []
    },
    {
      "cell_type": "code",
      "source": [
        "df.show()"
      ],
      "metadata": {
        "colab": {
          "base_uri": "https://localhost:8080/"
        },
        "id": "4B8VMAIVQY0I",
        "outputId": "a7fa7b2b-70e4-44af-e588-dedeb6e6e5fb"
      },
      "execution_count": 9,
      "outputs": [
        {
          "output_type": "stream",
          "name": "stdout",
          "text": [
            "+-----------+-----------+---+------------------+----------+------+------+-----------------+----+\n",
            "|  Ship_name|Cruise_line|Age|           Tonnage|passengers|length|cabins|passenger_density|crew|\n",
            "+-----------+-----------+---+------------------+----------+------+------+-----------------+----+\n",
            "|    Journey|    Azamara|  6|30.276999999999997|      6.94|  5.94|  3.55|            42.64|3.55|\n",
            "|      Quest|    Azamara|  6|30.276999999999997|      6.94|  5.94|  3.55|            42.64|3.55|\n",
            "|Celebration|   Carnival| 26|            47.262|     14.86|  7.22|  7.43|             31.8| 6.7|\n",
            "|   Conquest|   Carnival| 11|             110.0|     29.74|  9.53| 14.88|            36.99|19.1|\n",
            "|    Destiny|   Carnival| 17|           101.353|     26.42|  8.92| 13.21|            38.36|10.0|\n",
            "|    Ecstasy|   Carnival| 22|            70.367|     20.52|  8.55|  10.2|            34.29| 9.2|\n",
            "|    Elation|   Carnival| 15|            70.367|     20.52|  8.55|  10.2|            34.29| 9.2|\n",
            "|    Fantasy|   Carnival| 23|            70.367|     20.56|  8.55| 10.22|            34.23| 9.2|\n",
            "|Fascination|   Carnival| 19|            70.367|     20.52|  8.55|  10.2|            34.29| 9.2|\n",
            "|    Freedom|   Carnival|  6|110.23899999999999|      37.0|  9.51| 14.87|            29.79|11.5|\n",
            "|      Glory|   Carnival| 10|             110.0|     29.74|  9.51| 14.87|            36.99|11.6|\n",
            "|    Holiday|   Carnival| 28|            46.052|     14.52|  7.27|  7.26|            31.72| 6.6|\n",
            "|Imagination|   Carnival| 18|            70.367|     20.52|  8.55|  10.2|            34.29| 9.2|\n",
            "|Inspiration|   Carnival| 17|            70.367|     20.52|  8.55|  10.2|            34.29| 9.2|\n",
            "|     Legend|   Carnival| 11|              86.0|     21.24|  9.63| 10.62|            40.49| 9.3|\n",
            "|   Liberty*|   Carnival|  8|             110.0|     29.74|  9.51| 14.87|            36.99|11.6|\n",
            "|    Miracle|   Carnival|  9|              88.5|     21.24|  9.63| 10.62|            41.67|10.3|\n",
            "|   Paradise|   Carnival| 15|            70.367|     20.52|  8.55|  10.2|            34.29| 9.2|\n",
            "|      Pride|   Carnival| 12|              88.5|     21.24|  9.63| 11.62|            41.67| 9.3|\n",
            "|  Sensation|   Carnival| 20|            70.367|     20.52|  8.55|  10.2|            34.29| 9.2|\n",
            "+-----------+-----------+---+------------------+----------+------+------+-----------------+----+\n",
            "only showing top 20 rows\n",
            "\n"
          ]
        }
      ]
    },
    {
      "cell_type": "code",
      "source": [
        "df.printSchema()"
      ],
      "metadata": {
        "colab": {
          "base_uri": "https://localhost:8080/"
        },
        "id": "nwHFLQIOQY2P",
        "outputId": "e1b8df37-b598-4942-b989-b0fbdc188c32"
      },
      "execution_count": 10,
      "outputs": [
        {
          "output_type": "stream",
          "name": "stdout",
          "text": [
            "root\n",
            " |-- Ship_name: string (nullable = true)\n",
            " |-- Cruise_line: string (nullable = true)\n",
            " |-- Age: integer (nullable = true)\n",
            " |-- Tonnage: double (nullable = true)\n",
            " |-- passengers: double (nullable = true)\n",
            " |-- length: double (nullable = true)\n",
            " |-- cabins: double (nullable = true)\n",
            " |-- passenger_density: double (nullable = true)\n",
            " |-- crew: double (nullable = true)\n",
            "\n"
          ]
        }
      ]
    },
    {
      "cell_type": "code",
      "source": [
        "from pyspark.ml.linalg import Vectors\n",
        "from pyspark.ml.feature import VectorAssembler"
      ],
      "metadata": {
        "id": "7hq7y4iZQY4N"
      },
      "execution_count": 11,
      "outputs": []
    },
    {
      "cell_type": "code",
      "source": [
        "feat=VectorAssembler(inputCols=[\"Age\",\"Tonnage\",\"passengers\",\"length\",\"cabins\"],outputCol=\"independent\")"
      ],
      "metadata": {
        "id": "8fe4CE5qQY6W"
      },
      "execution_count": 12,
      "outputs": []
    },
    {
      "cell_type": "code",
      "source": [
        "output=feat.transform(df) # actual transformation "
      ],
      "metadata": {
        "id": "fi7VAHvoWXpD"
      },
      "execution_count": 13,
      "outputs": []
    },
    {
      "cell_type": "code",
      "source": [
        "output.show()"
      ],
      "metadata": {
        "colab": {
          "base_uri": "https://localhost:8080/"
        },
        "id": "O_HpruMBWXrS",
        "outputId": "989ae349-0546-4dc3-a24e-bc41f139726b"
      },
      "execution_count": 14,
      "outputs": [
        {
          "output_type": "stream",
          "name": "stdout",
          "text": [
            "+-----------+-----------+---+------------------+----------+------+------+-----------------+----+--------------------+\n",
            "|  Ship_name|Cruise_line|Age|           Tonnage|passengers|length|cabins|passenger_density|crew|         independent|\n",
            "+-----------+-----------+---+------------------+----------+------+------+-----------------+----+--------------------+\n",
            "|    Journey|    Azamara|  6|30.276999999999997|      6.94|  5.94|  3.55|            42.64|3.55|[6.0,30.276999999...|\n",
            "|      Quest|    Azamara|  6|30.276999999999997|      6.94|  5.94|  3.55|            42.64|3.55|[6.0,30.276999999...|\n",
            "|Celebration|   Carnival| 26|            47.262|     14.86|  7.22|  7.43|             31.8| 6.7|[26.0,47.262,14.8...|\n",
            "|   Conquest|   Carnival| 11|             110.0|     29.74|  9.53| 14.88|            36.99|19.1|[11.0,110.0,29.74...|\n",
            "|    Destiny|   Carnival| 17|           101.353|     26.42|  8.92| 13.21|            38.36|10.0|[17.0,101.353,26....|\n",
            "|    Ecstasy|   Carnival| 22|            70.367|     20.52|  8.55|  10.2|            34.29| 9.2|[22.0,70.367,20.5...|\n",
            "|    Elation|   Carnival| 15|            70.367|     20.52|  8.55|  10.2|            34.29| 9.2|[15.0,70.367,20.5...|\n",
            "|    Fantasy|   Carnival| 23|            70.367|     20.56|  8.55| 10.22|            34.23| 9.2|[23.0,70.367,20.5...|\n",
            "|Fascination|   Carnival| 19|            70.367|     20.52|  8.55|  10.2|            34.29| 9.2|[19.0,70.367,20.5...|\n",
            "|    Freedom|   Carnival|  6|110.23899999999999|      37.0|  9.51| 14.87|            29.79|11.5|[6.0,110.23899999...|\n",
            "|      Glory|   Carnival| 10|             110.0|     29.74|  9.51| 14.87|            36.99|11.6|[10.0,110.0,29.74...|\n",
            "|    Holiday|   Carnival| 28|            46.052|     14.52|  7.27|  7.26|            31.72| 6.6|[28.0,46.052,14.5...|\n",
            "|Imagination|   Carnival| 18|            70.367|     20.52|  8.55|  10.2|            34.29| 9.2|[18.0,70.367,20.5...|\n",
            "|Inspiration|   Carnival| 17|            70.367|     20.52|  8.55|  10.2|            34.29| 9.2|[17.0,70.367,20.5...|\n",
            "|     Legend|   Carnival| 11|              86.0|     21.24|  9.63| 10.62|            40.49| 9.3|[11.0,86.0,21.24,...|\n",
            "|   Liberty*|   Carnival|  8|             110.0|     29.74|  9.51| 14.87|            36.99|11.6|[8.0,110.0,29.74,...|\n",
            "|    Miracle|   Carnival|  9|              88.5|     21.24|  9.63| 10.62|            41.67|10.3|[9.0,88.5,21.24,9...|\n",
            "|   Paradise|   Carnival| 15|            70.367|     20.52|  8.55|  10.2|            34.29| 9.2|[15.0,70.367,20.5...|\n",
            "|      Pride|   Carnival| 12|              88.5|     21.24|  9.63| 11.62|            41.67| 9.3|[12.0,88.5,21.24,...|\n",
            "|  Sensation|   Carnival| 20|            70.367|     20.52|  8.55|  10.2|            34.29| 9.2|[20.0,70.367,20.5...|\n",
            "+-----------+-----------+---+------------------+----------+------+------+-----------------+----+--------------------+\n",
            "only showing top 20 rows\n",
            "\n"
          ]
        }
      ]
    },
    {
      "cell_type": "code",
      "source": [
        "final_df=output.select(\"independent\",\"crew\") # final dataset for training & testing "
      ],
      "metadata": {
        "id": "VqBSwkq6WXtf"
      },
      "execution_count": 15,
      "outputs": []
    },
    {
      "cell_type": "code",
      "source": [
        "final_df.show()"
      ],
      "metadata": {
        "colab": {
          "base_uri": "https://localhost:8080/"
        },
        "id": "jeBNsJ01WXvx",
        "outputId": "49c78bc5-8666-498d-ec5d-1a81032def87"
      },
      "execution_count": 16,
      "outputs": [
        {
          "output_type": "stream",
          "name": "stdout",
          "text": [
            "+--------------------+----+\n",
            "|         independent|crew|\n",
            "+--------------------+----+\n",
            "|[6.0,30.276999999...|3.55|\n",
            "|[6.0,30.276999999...|3.55|\n",
            "|[26.0,47.262,14.8...| 6.7|\n",
            "|[11.0,110.0,29.74...|19.1|\n",
            "|[17.0,101.353,26....|10.0|\n",
            "|[22.0,70.367,20.5...| 9.2|\n",
            "|[15.0,70.367,20.5...| 9.2|\n",
            "|[23.0,70.367,20.5...| 9.2|\n",
            "|[19.0,70.367,20.5...| 9.2|\n",
            "|[6.0,110.23899999...|11.5|\n",
            "|[10.0,110.0,29.74...|11.6|\n",
            "|[28.0,46.052,14.5...| 6.6|\n",
            "|[18.0,70.367,20.5...| 9.2|\n",
            "|[17.0,70.367,20.5...| 9.2|\n",
            "|[11.0,86.0,21.24,...| 9.3|\n",
            "|[8.0,110.0,29.74,...|11.6|\n",
            "|[9.0,88.5,21.24,9...|10.3|\n",
            "|[15.0,70.367,20.5...| 9.2|\n",
            "|[12.0,88.5,21.24,...| 9.3|\n",
            "|[20.0,70.367,20.5...| 9.2|\n",
            "+--------------------+----+\n",
            "only showing top 20 rows\n",
            "\n"
          ]
        }
      ]
    },
    {
      "cell_type": "code",
      "source": [
        "train,test=final_df.randomSplit([0.75,0.25]) # Split 75% training 25% testing "
      ],
      "metadata": {
        "id": "oY1lDDkcWXyF"
      },
      "execution_count": 17,
      "outputs": []
    },
    {
      "cell_type": "code",
      "source": [
        "train.show()"
      ],
      "metadata": {
        "colab": {
          "base_uri": "https://localhost:8080/"
        },
        "id": "jDL9HNjTXISh",
        "outputId": "7733707a-27df-4854-d58c-9efafe65f695"
      },
      "execution_count": 18,
      "outputs": [
        {
          "output_type": "stream",
          "name": "stdout",
          "text": [
            "+--------------------+-----+\n",
            "|         independent| crew|\n",
            "+--------------------+-----+\n",
            "|[4.0,220.0,54.0,1...| 21.0|\n",
            "|[5.0,115.0,35.74,...| 12.2|\n",
            "|[5.0,122.0,28.5,1...|  6.7|\n",
            "|[5.0,160.0,36.34,...| 13.6|\n",
            "|[6.0,30.276999999...| 3.55|\n",
            "|[6.0,90.0,20.0,9....|  9.0|\n",
            "|[6.0,93.0,23.94,9...|11.09|\n",
            "|[6.0,110.23899999...| 11.5|\n",
            "|[6.0,113.0,37.82,...| 12.0|\n",
            "|[6.0,158.0,43.7,1...| 13.6|\n",
            "|[7.0,89.6,25.5,9....| 9.87|\n",
            "|[7.0,116.0,31.0,9...| 12.0|\n",
            "|[7.0,158.0,43.7,1...| 13.6|\n",
            "|[8.0,77.499,19.5,...|  9.0|\n",
            "|[8.0,91.0,22.44,9...| 11.0|\n",
            "|[8.0,110.0,29.74,...| 11.6|\n",
            "|[9.0,59.058,17.0,...|  7.4|\n",
            "|[9.0,81.0,21.44,9...| 10.0|\n",
            "|[9.0,88.5,21.24,9...| 10.3|\n",
            "|[9.0,90.09,25.01,...| 8.69|\n",
            "+--------------------+-----+\n",
            "only showing top 20 rows\n",
            "\n"
          ]
        }
      ]
    },
    {
      "cell_type": "code",
      "source": [
        "test.show()"
      ],
      "metadata": {
        "colab": {
          "base_uri": "https://localhost:8080/"
        },
        "id": "Ne2qiWyUXIVf",
        "outputId": "9d1ea650-c7ab-4d43-c968-6b3dacd681a2"
      },
      "execution_count": 19,
      "outputs": [
        {
          "output_type": "stream",
          "name": "stdout",
          "text": [
            "+--------------------+-----+\n",
            "|         independent| crew|\n",
            "+--------------------+-----+\n",
            "|[5.0,86.0,21.04,9...|  8.0|\n",
            "|[5.0,133.5,39.59,...|13.13|\n",
            "|[6.0,30.276999999...| 3.55|\n",
            "|[6.0,112.0,38.0,9...| 10.9|\n",
            "|[9.0,85.0,19.68,9...| 8.69|\n",
            "|[9.0,113.0,26.74,...|12.38|\n",
            "|[10.0,68.0,10.8,7...| 6.36|\n",
            "|[10.0,91.62700000...|  9.0|\n",
            "|[10.0,105.0,27.2,...|10.68|\n",
            "|[11.0,86.0,21.24,...|  9.3|\n",
            "|[11.0,90.09,25.01...| 8.48|\n",
            "|[11.0,91.62700000...|  9.0|\n",
            "|[12.0,77.104,20.0...| 9.59|\n",
            "|[12.0,90.09,25.01...| 8.68|\n",
            "|[12.0,108.865,27....| 11.0|\n",
            "|[13.0,63.0,14.4,7...| 5.31|\n",
            "|[14.0,33.0,4.9,5....| 3.24|\n",
            "|[15.0,70.367,20.5...|  9.2|\n",
            "|[15.0,75.33800000...| 13.0|\n",
            "|[16.0,19.2,3.2,5....| 2.11|\n",
            "+--------------------+-----+\n",
            "only showing top 20 rows\n",
            "\n"
          ]
        }
      ]
    },
    {
      "cell_type": "code",
      "source": [
        "# Model Building\n",
        "  # Linear Regression"
      ],
      "metadata": {
        "id": "Y-hkmyPmaAeH"
      },
      "execution_count": 20,
      "outputs": []
    },
    {
      "cell_type": "code",
      "source": [
        "from pyspark.ml.regression import LinearRegression"
      ],
      "metadata": {
        "id": "9BfdZmUtXIX4"
      },
      "execution_count": 21,
      "outputs": []
    },
    {
      "cell_type": "code",
      "source": [
        "reg=LinearRegression(featuresCol=\"independent\",labelCol=\"crew\")"
      ],
      "metadata": {
        "id": "BJ74KPa3XIZ8"
      },
      "execution_count": 22,
      "outputs": []
    },
    {
      "cell_type": "code",
      "source": [
        "reg=reg.fit(train)   # model training"
      ],
      "metadata": {
        "id": "xRgyP6rdX-0R"
      },
      "execution_count": 23,
      "outputs": []
    },
    {
      "cell_type": "code",
      "source": [
        "reg.coefficients   # all m values"
      ],
      "metadata": {
        "colab": {
          "base_uri": "https://localhost:8080/"
        },
        "id": "SOHBwlJmX-25",
        "outputId": "643b7464-7ad5-4ef7-e7c1-782c827bd72b"
      },
      "execution_count": 24,
      "outputs": [
        {
          "output_type": "execute_result",
          "data": {
            "text/plain": [
              "DenseVector([-0.0176, 0.012, -0.1388, 0.4076, 0.7792])"
            ]
          },
          "metadata": {},
          "execution_count": 24
        }
      ]
    },
    {
      "cell_type": "code",
      "source": [
        "reg.intercept  # Y intercept value"
      ],
      "metadata": {
        "colab": {
          "base_uri": "https://localhost:8080/"
        },
        "id": "UenFzTbAX-5V",
        "outputId": "411275ac-e147-4567-9107-8a490eee531e"
      },
      "execution_count": 25,
      "outputs": [
        {
          "output_type": "execute_result",
          "data": {
            "text/plain": [
              "-0.4250248679158688"
            ]
          },
          "metadata": {},
          "execution_count": 25
        }
      ]
    },
    {
      "cell_type": "code",
      "source": [
        "# Determining the Accuracy"
      ],
      "metadata": {
        "id": "sT7HpXP0X-_C"
      },
      "execution_count": 26,
      "outputs": []
    },
    {
      "cell_type": "code",
      "source": [
        "train_sum=reg.summary"
      ],
      "metadata": {
        "id": "oEbCUNllXIcb"
      },
      "execution_count": 27,
      "outputs": []
    },
    {
      "cell_type": "code",
      "source": [
        "train_sum.rootMeanSquaredError"
      ],
      "metadata": {
        "colab": {
          "base_uri": "https://localhost:8080/"
        },
        "id": "K8sv3EpYXIfJ",
        "outputId": "806839f8-57ba-4249-dc2d-21b159c1912e"
      },
      "execution_count": 28,
      "outputs": [
        {
          "output_type": "execute_result",
          "data": {
            "text/plain": [
              "0.9760509809149426"
            ]
          },
          "metadata": {},
          "execution_count": 28
        }
      ]
    },
    {
      "cell_type": "code",
      "source": [
        "train_sum.r2 # r2 score "
      ],
      "metadata": {
        "colab": {
          "base_uri": "https://localhost:8080/"
        },
        "id": "YmpAsr1vXIhb",
        "outputId": "34327ccb-c87c-4b3b-b364-30f69806242d"
      },
      "execution_count": 29,
      "outputs": [
        {
          "output_type": "execute_result",
          "data": {
            "text/plain": [
              "0.9229619282044998"
            ]
          },
          "metadata": {},
          "execution_count": 29
        }
      ]
    },
    {
      "cell_type": "code",
      "source": [
        "train_sum.r2adj # adjustd r2 score "
      ],
      "metadata": {
        "colab": {
          "base_uri": "https://localhost:8080/"
        },
        "id": "SLJqPB_uY9SF",
        "outputId": "9a25c944-e8f9-49c2-9743-7b8f471ab9ab"
      },
      "execution_count": 30,
      "outputs": [
        {
          "output_type": "execute_result",
          "data": {
            "text/plain": [
              "0.9196124468220868"
            ]
          },
          "metadata": {},
          "execution_count": 30
        }
      ]
    },
    {
      "cell_type": "code",
      "source": [
        "pred=reg.evaluate(test) # Prediction for testing data "
      ],
      "metadata": {
        "id": "KtkxMqUeY9Uq"
      },
      "execution_count": 31,
      "outputs": []
    },
    {
      "cell_type": "code",
      "source": [
        "pred.predictions.show()"
      ],
      "metadata": {
        "colab": {
          "base_uri": "https://localhost:8080/"
        },
        "id": "8akxMtzbY9Xu",
        "outputId": "6ab3a337-fdf3-4629-d042-e8ade9b7e538"
      },
      "execution_count": 32,
      "outputs": [
        {
          "output_type": "stream",
          "name": "stdout",
          "text": [
            "+--------------------+-----+------------------+\n",
            "|         independent| crew|        prediction|\n",
            "+--------------------+-----+------------------+\n",
            "|[5.0,86.0,21.04,9...|  8.0|  9.37932726181633|\n",
            "|[5.0,133.5,39.59,...|13.13|12.807711130772383|\n",
            "|[6.0,30.276999999...| 3.55|  4.05752104404188|\n",
            "|[6.0,112.0,38.0,9...| 10.9| 11.10594476782108|\n",
            "|[9.0,85.0,19.68,9...| 8.69| 9.185500991628984|\n",
            "|[9.0,113.0,26.74,...|12.38|11.358015708139884|\n",
            "|[10.0,68.0,10.8,7...| 6.36| 6.223344335232164|\n",
            "|[10.0,91.62700000...|  9.0| 9.380856877022508|\n",
            "|[10.0,105.0,27.2,...|10.68|11.079747824039039|\n",
            "|[11.0,86.0,21.24,...|  9.3| 9.667681580150921|\n",
            "|[11.0,90.09,25.01...| 8.48| 9.096014205893786|\n",
            "|[11.0,91.62700000...|  9.0| 9.363255087329733|\n",
            "|[12.0,77.104,20.0...| 9.59| 8.788753767595887|\n",
            "|[12.0,90.09,25.01...| 8.68| 9.078412416201012|\n",
            "|[12.0,108.865,27....| 11.0|10.850592299217322|\n",
            "|[13.0,63.0,14.4,7...| 5.31| 6.882324182791856|\n",
            "|[14.0,33.0,4.9,5....| 3.24|3.2369309407910736|\n",
            "|[15.0,70.367,20.5...|  9.2| 8.741717914951934|\n",
            "|[15.0,75.33800000...| 13.0| 8.744286380478286|\n",
            "|[16.0,19.2,3.2,5....| 2.11|2.4178423540184744|\n",
            "+--------------------+-----+------------------+\n",
            "only showing top 20 rows\n",
            "\n"
          ]
        }
      ]
    },
    {
      "cell_type": "code",
      "source": [
        "from pyspark.ml.evaluation import RegressionEvaluator # Evaluate Regression model"
      ],
      "metadata": {
        "id": "cslcuvhjZP-p"
      },
      "execution_count": 33,
      "outputs": []
    },
    {
      "cell_type": "code",
      "source": [
        "pred_eval=RegressionEvaluator(predictionCol=\"prediction\",labelCol=\"crew\",metricName=\"r2\")"
      ],
      "metadata": {
        "id": "bGuAkMJpZQBm"
      },
      "execution_count": 34,
      "outputs": []
    },
    {
      "cell_type": "code",
      "source": [
        "pred_eval.evaluate(pred.predictions)"
      ],
      "metadata": {
        "colab": {
          "base_uri": "https://localhost:8080/"
        },
        "id": "f9eI0g-xZQEG",
        "outputId": "824a132c-f2d9-4b76-d61f-a3dc4aa9eb91"
      },
      "execution_count": 35,
      "outputs": [
        {
          "output_type": "execute_result",
          "data": {
            "text/plain": [
              "0.9260766184395052"
            ]
          },
          "metadata": {},
          "execution_count": 35
        }
      ]
    },
    {
      "cell_type": "code",
      "source": [
        "# So the model is 92.60% accurate by linear regressor"
      ],
      "metadata": {
        "id": "FzPQjGGjZQGk"
      },
      "execution_count": 36,
      "outputs": []
    },
    {
      "cell_type": "code",
      "source": [
        "# Random Forest"
      ],
      "metadata": {
        "id": "04eTXZPgZQI0"
      },
      "execution_count": 37,
      "outputs": []
    },
    {
      "cell_type": "code",
      "source": [
        "from pyspark.ml.regression import RandomForestRegressor"
      ],
      "metadata": {
        "id": "F0L5rVxwZQK7"
      },
      "execution_count": 38,
      "outputs": []
    },
    {
      "cell_type": "code",
      "source": [
        "rf = RandomForestRegressor(featuresCol=\"independent\",labelCol=\"crew\" )"
      ],
      "metadata": {
        "id": "Ebjhu3vlZQNx"
      },
      "execution_count": 39,
      "outputs": []
    },
    {
      "cell_type": "code",
      "source": [
        "rfmodel = rf.fit(train)"
      ],
      "metadata": {
        "id": "1bTAzt1VZQPx"
      },
      "execution_count": 40,
      "outputs": []
    },
    {
      "cell_type": "code",
      "source": [
        "# Make predictions.\n",
        "predictions = rfmodel.transform(test)"
      ],
      "metadata": {
        "id": "DoMyKTsZaNCW"
      },
      "execution_count": 41,
      "outputs": []
    },
    {
      "cell_type": "code",
      "source": [
        ""
      ],
      "metadata": {
        "id": "WPbuWxRPaNHC"
      },
      "execution_count": 41,
      "outputs": []
    },
    {
      "cell_type": "code",
      "metadata": {
        "colab": {
          "base_uri": "https://localhost:8080/"
        },
        "id": "anvYbbunzpSe",
        "outputId": "0c09c5c8-0383-4864-88ac-92628e4765bb"
      },
      "source": [
        "evaluator = RegressionEvaluator(\n",
        "    labelCol=\"crew\", predictionCol=\"prediction\", metricName=\"r2\")\n",
        "r2 = evaluator.evaluate(predictions)\n",
        "print (\"r2 on test data = %g\" % r2)"
      ],
      "execution_count": 42,
      "outputs": [
        {
          "output_type": "stream",
          "name": "stdout",
          "text": [
            "r2 on test data = 0.931353\n"
          ]
        }
      ]
    },
    {
      "cell_type": "code",
      "source": [
        "# here Random Forest Shows more accuracy than that of Linear Regression"
      ],
      "metadata": {
        "id": "qPDr1rAkaNJz"
      },
      "execution_count": 44,
      "outputs": []
    },
    {
      "cell_type": "code",
      "source": [
        ""
      ],
      "metadata": {
        "id": "FN6CU5EbaNMl"
      },
      "execution_count": 43,
      "outputs": []
    }
  ]
}